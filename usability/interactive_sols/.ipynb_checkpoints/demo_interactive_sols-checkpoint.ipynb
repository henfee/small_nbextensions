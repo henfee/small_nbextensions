{
 "cells": [
  {
   "cell_type": "code",
   "execution_count": 1,
   "metadata": {
    "cbox_ck": true,
    "cbox_id": "myCheck25",
    "collapsed": false,
    "widget": true
   },
   "outputs": [
    {
     "data": {
      "application/javascript": [
       "require(\"base/js/utils\").load_extensions(\"usability/interactive_sols/interactive_sols\")"
      ],
      "text/plain": [
       "<IPython.core.display.Javascript object>"
      ]
     },
     "metadata": {},
     "output_type": "display_data"
    }
   ],
   "source": [
    "%%javascript\n",
    "require(\"base/js/utils\").load_extensions(\"usability/interactive_sols/interactive_sols\")"
   ]
  },
  {
   "cell_type": "markdown",
   "metadata": {},
   "source": [
    "## interactive_sols extension:\n",
    "\n",
    "\n",
    "This extension enable to hide or reveal several consecutive cells, using a small button. State of cells (hidden or not) and of the widget are saved in the notebook's metadata, which enable to restore the state of the notebook at (re)load. This extension is designed to let students work on a subject, before looking at tips or at the solution. The package provides both the javascript extension\n",
    "- interactive_sols.js [actual extension]\n",
    "- interactive_sols.css [stylesheet where the widgets can be customized]\n",
    "and a python file, which defines a function `process_solution` which defines the number of cells to mask:\n",
    "- interactive_sols.ipy\n",
    "This last file must be copied in the current directory or in a directory of the PYTHONPATH. "
   ]
  },
  {
   "cell_type": "markdown",
   "metadata": {},
   "source": [
    "It works as follows:"
   ]
  },
  {
   "cell_type": "code",
   "execution_count": 81,
   "metadata": {
    "collapsed": false
   },
   "outputs": [
    {
     "data": {
      "application/javascript": [
       "\n",
       "    var kernel = Jupyter.notebook.kernel;\n",
       "    if (kernel!=undefined){\n",
       "        var command = \"cbx_id = '\" +  Jupyter.notebook.metadata.interactive_sols.cbx_id + \"'\";\n",
       "        kernel.execute(command);\n",
       "        console.log('cfg.cbx_id',Jupyter.notebook.metadata.interactive_sols.cbx_id);}\n",
       "    "
      ],
      "text/plain": [
       "<IPython.core.display.Javascript object>"
      ]
     },
     "metadata": {},
     "output_type": "display_data"
    }
   ],
   "source": [
    "%run interactive_sols.ipy"
   ]
  },
  {
   "cell_type": "code",
   "execution_count": 72,
   "metadata": {
    "collapsed": false
   },
   "outputs": [
    {
     "data": {
      "text/plain": [
       "25"
      ]
     },
     "execution_count": 72,
     "metadata": {},
     "output_type": "execute_result"
    }
   ],
   "source": [
    "int(cbx_id)"
   ]
  },
  {
   "cell_type": "code",
   "execution_count": null,
   "metadata": {
    "collapsed": true
   },
   "outputs": [],
   "source": [
    "from interactive_sols import process_solution, unhide_next_cell"
   ]
  },
  {
   "cell_type": "code",
   "execution_count": 83,
   "metadata": {
    "collapsed": false
   },
   "outputs": [
    {
     "data": {
      "application/javascript": [
       "\n",
       "    var kernel = Jupyter.notebook.kernel;\n",
       "    if (kernel!=undefined){\n",
       "        var command = \"cbx_id = '\" +  Jupyter.notebook.metadata.interactive_sols.cbx_id + \"'\";\n",
       "        kernel.execute(command);\n",
       "        console.log('cfg.cbx_id',Jupyter.notebook.metadata.interactive_sols.cbx_id);}\n",
       "    "
      ],
      "text/plain": [
       "<IPython.core.display.Javascript object>"
      ]
     },
     "metadata": {},
     "output_type": "display_data"
    }
   ],
   "source": [
    "%run interactive_sols.ipy"
   ]
  },
  {
   "cell_type": "code",
   "execution_count": 86,
   "metadata": {
    "collapsed": false
   },
   "outputs": [
    {
     "data": {
      "application/javascript": [
       "\n",
       "    var index = IPython.notebook.get_selected_index();\n",
       "    var cell = IPython.notebook.get_cell(index+1);\n",
       "    cell.element.find(\"div.input\").show()\n",
       "    "
      ],
      "text/plain": [
       "<IPython.core.display.Javascript object>"
      ]
     },
     "metadata": {},
     "output_type": "display_data"
    }
   ],
   "source": [
    "unhide_next_cell()"
   ]
  },
  {
   "cell_type": "code",
   "execution_count": 85,
   "metadata": {
    "cbox_ck": true,
    "cbox_id": "myCheck30",
    "collapsed": false,
    "widget": true
   },
   "outputs": [
    {
     "data": {
      "text/html": [
       "\n",
       "    <div class=\"onoffswitch\">\n",
       "        <input type=\"checkbox\" name=\"onoffswitch\" class=\"onoffswitch-checkbox\" \n",
       "        onclick=\"console.log(document.getElementById('myCheck30').checked ? show_input(2) : hide_input(2))\" \n",
       "        id=\"myCheck30\"  checked>\n",
       "        <label class=\"onoffswitch-label\" for='myCheck30'>\n",
       "            <span class=\"onoffswitch-inner\" )\"></span>\n",
       "            <span class=\"onoffswitch-switch\"></span>\n",
       "        </label>\n",
       "    </div>\n",
       "    <script> \n",
       "       //init_cell_sols(\"myCheck30\"); \n",
       "       cfg= Jupyter.notebook.metadata.interactive_sols;\n",
       "       var cell = IPython.notebook.get_selected_cell();\n",
       "         //cell.metadata.manualexec = true; \n",
       "         cell.metadata.widget = true;\n",
       "         cell.metadata.cbox_id = \"myCheck30\";\n",
       "         cell.metadata.cbox_ck = true;\n",
       "         cfg.cbx_id+=1;\n",
       "         cell.element.find(\"div.input\").hide(); //hide itself...\n",
       "       </script>\n",
       "    "
      ],
      "text/plain": [
       "<IPython.core.display.HTML object>"
      ]
     },
     "metadata": {},
     "output_type": "display_data"
    }
   ],
   "source": [
    "# Here we ask the extension to mask the next two cells\n",
    "process_solution(2)"
   ]
  },
  {
   "cell_type": "markdown",
   "metadata": {
    "hidden": false
   },
   "source": [
    "This is a textcell that will be masked"
   ]
  },
  {
   "cell_type": "code",
   "execution_count": 68,
   "metadata": {
    "collapsed": true,
    "hidden": false
   },
   "outputs": [],
   "source": [
    "a=1"
   ]
  },
  {
   "cell_type": "code",
   "execution_count": 8,
   "metadata": {
    "collapsed": false,
    "hidden": true
   },
   "outputs": [
    {
     "data": {
      "text/plain": [
       "[0, 1, 2, 3, 4, 5, 6, 7, 8, 9, 10, 11, 12, 13, 14, 15, 16, 17, 18, 19]"
      ]
     },
     "execution_count": 8,
     "metadata": {},
     "output_type": "execute_result"
    }
   ],
   "source": [
    "#This is a code cell that will be masked\n",
    "[k for k in range(20)]"
   ]
  },
  {
   "cell_type": "markdown",
   "metadata": {},
   "source": [
    "- Firstable, the extension provides three toolbar buttons that enable highlighting a selected text _within a markdown cell_. Two different \\`color schemes' are provided, which can be customized in the stylesheet `highlighter.css`. The last button enables to remove all highlightings in the current cell. \n",
    "- This works both when the cell is rendered and when the cell is in edit mode; \n",
    "- The extension also provides two keyboard shortcuts (Alt-G and Alt-H) which fire the highlighting of the selected text. \n",
    "\n",
    "![](icon.gif)\n",
    "\n",
    "## Installation:\n",
    "\n",
    "With Jupyter, you can simply issue\n",
    "```bash\n",
    "jupyter nbextension install https://rawgit.com/jfbercher/small_nbextensions/master/highlighter.zip  --user\n",
    "\n",
    "```\n",
    "at the command line.\n",
    "\n",
    "### Testing: \n",
    "\n",
    "Use a code cell with\n",
    "```javascript\n",
    "%%javascript\n",
    "require(\"base/js/utils\").load_extensions(\"usability/highlighter/highlighter\")\n",
    "```\n",
    "### Automatic load\n",
    "You may also automatically load the extension for any notebook via\n",
    "```bash\n",
    "jupyter nbextension enable usability/highlighter/highlighter\t\n",
    "```"
   ]
  },
  {
   "cell_type": "code",
   "execution_count": 66,
   "metadata": {
    "cbox_ck": true,
    "cbox_id": "myCheck25",
    "collapsed": false,
    "hidden": false,
    "widget": true
   },
   "outputs": [
    {
     "name": "stdout",
     "output_type": "stream",
     "text": [
      "25\n"
     ]
    },
    {
     "data": {
      "text/html": [
       "\n",
       "    <div class=\"onoffswitch\">\n",
       "        <input type=\"checkbox\" name=\"onoffswitch\" class=\"onoffswitch-checkbox\" \n",
       "        onclick=\"console.log(document.getElementById('myCheck25').checked ? show_input(1) : hide_input(1))\" \n",
       "        id=\"myCheck25\"  checked>\n",
       "        <label class=\"onoffswitch-label\" for='myCheck25'>\n",
       "            <span class=\"onoffswitch-inner\" )\"></span>\n",
       "            <span class=\"onoffswitch-switch\"></span>\n",
       "        </label>\n",
       "    </div>\n",
       "    <script> \n",
       "       //init_cell_sols(\"myCheck25\"); \n",
       "       cfg= Jupyter.notebook.metadata.interactive_sols;\n",
       "       var cell = IPython.notebook.get_selected_cell();\n",
       "         //cell.metadata.manualexec = true; \n",
       "         cell.metadata.widget = true;\n",
       "         cell.metadata.cbox_id = \"myCheck25\";\n",
       "         cell.metadata.cbox_ck = true;\n",
       "         cfg.cbx_id+=1;\n",
       "         cell.element.find(\"div.input\").hide(); //hide itself...\n",
       "       </script>\n",
       "    "
      ],
      "text/plain": [
       "<IPython.core.display.HTML object>"
      ]
     },
     "metadata": {},
     "output_type": "display_data"
    }
   ],
   "source": [
    "process_solution()"
   ]
  }
 ],
 "metadata": {
  "celltoolbar": "Edit Metadata",
  "interactive_sols": {
   "cbx_id": 32
  },
  "kernelspec": {
   "display_name": "Python 3",
   "language": "python",
   "name": "python3"
  },
  "language_info": {
   "codemirror_mode": {
    "name": "ipython",
    "version": 3
   },
   "file_extension": ".py",
   "mimetype": "text/x-python",
   "name": "python",
   "nbconvert_exporter": "python",
   "pygments_lexer": "ipython3",
   "version": "3.4.3+"
  },
  "latex_envs": {
   "bibliofile": "biblio.bib",
   "cite_by": "apalike",
   "current_citInitial": 1,
   "eqLabelWithNumbers": true,
   "eqNumInitial": 0
  }
 },
 "nbformat": 4,
 "nbformat_minor": 0
}
