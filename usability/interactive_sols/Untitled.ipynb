{
 "cells": [
  {
   "cell_type": "code",
   "execution_count": 1,
   "metadata": {
    "collapsed": false
   },
   "outputs": [
    {
     "data": {
      "application/javascript": [
       "require(\"base/js/utils\").load_extensions(\"interactive_sols\")"
      ],
      "text/plain": [
       "<IPython.core.display.Javascript object>"
      ]
     },
     "metadata": {},
     "output_type": "display_data"
    }
   ],
   "source": [
    "%%javascript\n",
    "require(\"base/js/utils\").load_extensions(\"interactive_sols\")"
   ]
  },
  {
   "cell_type": "code",
   "execution_count": 2,
   "metadata": {
    "collapsed": false
   },
   "outputs": [
    {
     "name": "stdout",
     "output_type": "stream",
     "text": [
      "/home/bercherj/JFB/Python\n"
     ]
    }
   ],
   "source": [
    "cd /home/bercherj/JFB/Python\n"
   ]
  },
  {
   "cell_type": "code",
   "execution_count": 6,
   "metadata": {
    "collapsed": true
   },
   "outputs": [],
   "source": [
    "cbx_id=4"
   ]
  },
  {
   "cell_type": "code",
   "execution_count": 3,
   "metadata": {
    "collapsed": true
   },
   "outputs": [],
   "source": [
    "%run interactive_sols4.ipy"
   ]
  },
  {
   "cell_type": "code",
   "execution_count": 9,
   "metadata": {
    "collapsed": false
   },
   "outputs": [
    {
     "data": {
      "application/javascript": [
       "\n",
       "    var index = IPython.notebook.get_selected_index();\n",
       "    var cell = IPython.notebook.get_cell(index+1);\n",
       "    cell.element.find(\"div.input\").show()\n",
       "    "
      ],
      "text/plain": [
       "<IPython.core.display.Javascript object>"
      ]
     },
     "metadata": {},
     "output_type": "display_data"
    }
   ],
   "source": [
    "unhide_next_cell()"
   ]
  },
  {
   "cell_type": "code",
   "execution_count": 10,
   "metadata": {
    "cbox_ck": true,
    "cbox_id": "myCheck1",
    "collapsed": false,
    "widget": true
   },
   "outputs": [
    {
     "data": {
      "application/javascript": [
       "\n",
       "    var kernel = Jupyter.notebook.kernel;\n",
       "    if (kernel!=undefined){\n",
       "        var command = \"cbx_id = '\" +  Jupyter.notebook.metadata.interactive_sols.cbx_id + \"'\";\n",
       "        kernel.execute(command);\n",
       "        console.log('cfg.cbx_id',Jupyter.notebook.metadata.interactive_sols.cbx_id);}\n",
       "    "
      ],
      "text/plain": [
       "<IPython.core.display.Javascript object>"
      ]
     },
     "metadata": {},
     "output_type": "display_data"
    },
    {
     "data": {
      "text/html": [
       "\n",
       "    <div class=\"onoffswitch\">\n",
       "        <input type=\"checkbox\" name=\"onoffswitch\" class=\"onoffswitch-checkbox\" \n",
       "        onclick=\"console.log(document.getElementById('myCheck1').checked ? show_input(2) : hide_input(2))\" \n",
       "        id=\"myCheck1\"  checked>\n",
       "        <label class=\"onoffswitch-label\" for='myCheck1'>\n",
       "            <span class=\"onoffswitch-inner\" )\"></span>\n",
       "            <span class=\"onoffswitch-switch\"></span>\n",
       "        </label>\n",
       "    </div>\n",
       "    <script> \n",
       "       //init_cell_sols(\"myCheck1\"); \n",
       "       cfg= Jupyter.notebook.metadata.interactive_sols;\n",
       "       var cell = IPython.notebook.get_selected_cell();\n",
       "         //cell.metadata.manualexec = true; \n",
       "         cell.metadata.widget = true;\n",
       "         cell.metadata.cbox_id = \"myCheck1\";\n",
       "         cell.metadata.cbox_ck = true;\n",
       "         cfg.cbx_id+=1;\n",
       "         cell.element.find(\"div.input\").hide(); //hide itself...\n",
       "       </script>\n",
       "    "
      ],
      "text/plain": [
       "<IPython.core.display.HTML object>"
      ]
     },
     "metadata": {},
     "output_type": "display_data"
    }
   ],
   "source": [
    "process_solution(2)"
   ]
  },
  {
   "cell_type": "code",
   "execution_count": 11,
   "metadata": {
    "collapsed": false
   },
   "outputs": [
    {
     "data": {
      "text/plain": [
       "'2'"
      ]
     },
     "execution_count": 11,
     "metadata": {},
     "output_type": "execute_result"
    }
   ],
   "source": [
    "cbx_id"
   ]
  },
  {
   "cell_type": "code",
   "execution_count": null,
   "metadata": {
    "collapsed": true,
    "hidden": true
   },
   "outputs": [],
   "source": [
    "a"
   ]
  },
  {
   "cell_type": "code",
   "execution_count": null,
   "metadata": {
    "collapsed": true,
    "hidden": true
   },
   "outputs": [],
   "source": [
    "b"
   ]
  },
  {
   "cell_type": "code",
   "execution_count": null,
   "metadata": {
    "collapsed": true
   },
   "outputs": [],
   "source": [
    "c"
   ]
  }
 ],
 "metadata": {
  "interactive_sols": {
   "cbx_id": 3
  },
  "kernelspec": {
   "display_name": "Python 3",
   "language": "python",
   "name": "python3"
  },
  "language_info": {
   "codemirror_mode": {
    "name": "ipython",
    "version": 3
   },
   "file_extension": ".py",
   "mimetype": "text/x-python",
   "name": "python",
   "nbconvert_exporter": "python",
   "pygments_lexer": "ipython3",
   "version": "3.4.3+"
  },
  "latex_envs": {
   "bibliofile": "biblio.bib",
   "cite_by": "apalike",
   "current_citInitial": 1,
   "eqLabelWithNumbers": true,
   "eqNumInitial": 0
  }
 },
 "nbformat": 4,
 "nbformat_minor": 0
}
