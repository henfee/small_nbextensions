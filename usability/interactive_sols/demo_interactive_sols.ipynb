{
 "cells": [
  {
   "cell_type": "code",
   "execution_count": 4,
   "metadata": {
    "cbox_ck": true,
    "cbox_id": "myCheck25",
    "collapsed": false,
    "widget": true
   },
   "outputs": [
    {
     "data": {
      "application/javascript": [
       "require(\"base/js/utils\").load_extensions(\"usability/interactive_sols/interactive_sols\")"
      ],
      "text/plain": [
       "<IPython.core.display.Javascript object>"
      ]
     },
     "metadata": {},
     "output_type": "display_data"
    }
   ],
   "source": [
    "%%javascript\n",
    "require(\"base/js/utils\").load_extensions(\"usability/interactive_sols/interactive_sols\")"
   ]
  },
  {
   "cell_type": "markdown",
   "metadata": {},
   "source": [
    "## interactive_sols extension:\n",
    "\n",
    "\n",
    "This extension enable to hide or reveal several consecutive cells, using a small button. State of cells (hidden or not) and of the widget are saved in the notebook's metadata, which enable to restore the state of the notebook at (re)load. This extension is designed to let students work on a subject, before looking at tips or at the solution. The package provides both the javascript extension\n",
    "- interactive_sols.js [the actual extension]\n",
    "- interactive_sols.css [stylesheet where the widgets can be customized]\n",
    "and a python file, which defines a function `process_solution` which defines the number of cells to mask:\n",
    "- interactive_sols.py\n",
    "This last file must be copied in the current directory or in a directory of the PYTHONPATH. "
   ]
  },
  {
   "cell_type": "markdown",
   "metadata": {},
   "source": [
    "It works as follows: either load the python function via a `%run`, or by loading `interactive_sols` as a module."
   ]
  },
  {
   "cell_type": "code",
   "execution_count": null,
   "metadata": {
    "collapsed": false
   },
   "outputs": [],
   "source": [
    "%run interactive_sols.py\n",
    "#or\n",
    "from interactive_sols_d import process_solution, unhide_next_cell, unhide_all_cells"
   ]
  },
  {
   "cell_type": "code",
   "execution_count": 8,
   "metadata": {
    "collapsed": false
   },
   "outputs": [
    {
     "data": {
      "application/javascript": [
       "require(\"base/js/utils\").load_extensions(\"usability/interactive_sols/interactive_sols\")"
      ],
      "text/plain": [
       "<IPython.core.display.Javascript object>"
      ]
     },
     "metadata": {},
     "output_type": "display_data"
    }
   ],
   "source": [
    "%%javascript\n",
    "require(\"base/js/utils\").load_extensions(\"usability/interactive_sols/interactive_sols\")"
   ]
  },
  {
   "cell_type": "markdown",
   "metadata": {},
   "source": [
    "Then, the user can issue the command `process_solution(n)`, where `n` is an integer (n defaults to 1). In such case, the current cell with the process_solution command will be replaced by a (pretty) checkbox. Checking this checkbox will hide the n following cells. Some efforts have been done to ensure that the states (hidden/shown) of the cells as well as the checked state of checkboxes survive to reloads of the page, restarts of the kernel, and clear of cells outputs. "
   ]
  },
  {
   "cell_type": "markdown",
   "metadata": {},
   "source": [
    "Under the hood, the checkboxes are created with some lines of html/css, a counter for defining unique ids is implemented andstored in the notebook's metadata. "
   ]
  },
  {
   "cell_type": "markdown",
   "metadata": {},
   "source": [
    "Here is an example: we mask/unmask two next cells:\n",
    "```\n",
    "process_solution(2)\n",
    "```"
   ]
  },
  {
   "cell_type": "markdown",
   "metadata": {},
   "source": [
    "**Exercise: recall the definition of a dot product and then propose an implementation for two lists. Please try to do it by yourself a few minutes, then look at the solution**"
   ]
  },
  {
   "cell_type": "code",
   "execution_count": 5,
   "metadata": {
    "cbox_ck": false,
    "cbox_id": "myCheck36",
    "collapsed": false,
    "widget": true
   },
   "outputs": [
    {
     "data": {
      "text/html": [
       "<div class=\"onoffswitch\">\n",
       "<input type=\"checkbox\" name=\"onoffswitch\" class=\"onoffswitch-checkbox\"\n",
       "onclick=\"document.getElementById('myCheck36').checked ? \n",
       "show_input(2) : hide_input(2)\" \n",
       "id=\"myCheck36\"  checked>\n",
       "<label class=\"onoffswitch-label\" for=\"myCheck36\"> \n",
       "<span class=\"onoffswitch-inner\"></span> \n",
       "<span class=\"onoffswitch-switch\"></span>\n",
       "</label>\n",
       "</div>"
      ],
      "text/plain": [
       "<IPython.core.display.HTML object>"
      ]
     },
     "metadata": {},
     "output_type": "display_data"
    }
   ],
   "source": [
    "from IPython.display import HTML, display, Javascript\n",
    "display(HTML('<div class=\"onoffswitch\">\\n<input type=\"checkbox\" name=\"onoffswitch\" class=\"onoffswitch-checkbox\"\\nonclick=\"document.getElementById('+\"'myCheck36'\"+').checked ? \\nshow_input(2) : hide_input(2)\" \\nid=\"myCheck36\"  checked>\\n<label class=\"onoffswitch-label\" for=\"myCheck36\"> \\n<span class=\"onoffswitch-inner\"></span> \\n<span class=\"onoffswitch-switch\"></span>\\n</label>\\n</div>'))"
   ]
  },
  {
   "cell_type": "markdown",
   "metadata": {
    "hidden": true
   },
   "source": [
    "This is a text cell that will be masked/unmasked. Of course anything can go in this cell, e.g. equations\n",
    "$$\n",
    "a\\cdot b  = \\sum_i a_i b_i\n",
    "$$\n",
    "or images, or anything that is accepted in markdown cells."
   ]
  },
  {
   "cell_type": "code",
   "execution_count": null,
   "metadata": {
    "collapsed": false,
    "hidden": true
   },
   "outputs": [],
   "source": [
    "# Then here is a code cell for the demo:\n",
    "def dotp(x,y):\n",
    "    z=[x[i]*y[i] for i in range(len(x))]\n",
    "    return sum(z)\n",
    "dotp([1,2,3],[4,5,6])"
   ]
  },
  {
   "cell_type": "markdown",
   "metadata": {},
   "source": [
    "Another one: `process_solution()`"
   ]
  },
  {
   "cell_type": "code",
   "execution_count": 6,
   "metadata": {
    "cbox_ck": true,
    "cbox_id": "myCheck37",
    "collapsed": false,
    "widget": true
   },
   "outputs": [
    {
     "data": {
      "text/html": [
       "<div class=\"onoffswitch\">\n",
       "<input type=\"checkbox\" name=\"onoffswitch\" class=\"onoffswitch-checkbox\"\n",
       "onclick=\"document.getElementById('myCheck37').checked ? \n",
       "show_input(1) : hide_input(1)\" \n",
       "id=\"myCheck37\"  checked>\n",
       "<label class=\"onoffswitch-label\" for=\"myCheck37\"> \n",
       "<span class=\"onoffswitch-inner\"></span> \n",
       "<span class=\"onoffswitch-switch\"></span>\n",
       "</label>\n",
       "</div>"
      ],
      "text/plain": [
       "<IPython.core.display.HTML object>"
      ]
     },
     "metadata": {},
     "output_type": "display_data"
    }
   ],
   "source": [
    "from IPython.display import HTML, display, Javascript\n",
    "display(HTML('<div class=\"onoffswitch\">\\n<input type=\"checkbox\" name=\"onoffswitch\" class=\"onoffswitch-checkbox\"\\nonclick=\"document.getElementById('+\"'myCheck37'\"+').checked ? \\nshow_input(1) : hide_input(1)\" \\nid=\"myCheck37\"  checked>\\n<label class=\"onoffswitch-label\" for=\"myCheck37\"> \\n<span class=\"onoffswitch-inner\"></span> \\n<span class=\"onoffswitch-switch\"></span>\\n</label>\\n</div>'))"
   ]
  },
  {
   "cell_type": "markdown",
   "metadata": {
    "hidden": false
   },
   "source": [
    "This is a textcell that may be masked"
   ]
  },
  {
   "cell_type": "markdown",
   "metadata": {},
   "source": [
    "## Illustration:\n",
    "\n",
    "![](icon.gif)"
   ]
  },
  {
   "cell_type": "markdown",
   "metadata": {},
   "source": [
    "## Installation:\n",
    "\n",
    "With Jupyter, you can simply issue\n",
    "```bash\n",
    "jupyter nbextension install https://rawgit.com/jfbercher/small_nbextensions/master/interactive_sols.zip  --user\n",
    "\n",
    "```\n",
    "at the command line.\n",
    "\n",
    "### Testing: \n",
    "\n",
    "Use a code cell with\n",
    "```javascript\n",
    "%%javascript\n",
    "require(\"base/js/utils\").load_extensions(\"usability/interactive_sols/interactive_sols\")\n",
    "```\n",
    "### Automatic load\n",
    "You may also automatically load the extension for any notebook via\n",
    "```bash\n",
    "jupyter nbextension enable usability/interactive_sols/interactive_sols\t\n",
    "```"
   ]
  }
 ],
 "metadata": {
  "interactive_sols": {
   "cbx_id": 38
  },
  "kernelspec": {
   "display_name": "Python 3",
   "language": "python",
   "name": "python3"
  },
  "language_info": {
   "codemirror_mode": {
    "name": "ipython",
    "version": 3
   },
   "file_extension": ".py",
   "mimetype": "text/x-python",
   "name": "python",
   "nbconvert_exporter": "python",
   "pygments_lexer": "ipython3",
   "version": "3.4.3+"
  },
  "latex_envs": {
   "bibliofile": "biblio.bib",
   "cite_by": "apalike",
   "current_citInitial": 1,
   "eqLabelWithNumbers": true,
   "eqNumInitial": 0
  }
 },
 "nbformat": 4,
 "nbformat_minor": 0
}
