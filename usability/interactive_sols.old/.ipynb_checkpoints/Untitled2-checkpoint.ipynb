{
 "cells": [
  {
   "cell_type": "code",
   "execution_count": 66,
   "metadata": {
    "collapsed": false
   },
   "outputs": [
    {
     "data": {
      "application/javascript": [
       "require(\"base/js/utils\").load_extensions(\"usability/interactive_sols/interactive_sols_d\")"
      ],
      "text/plain": [
       "<IPython.core.display.Javascript object>"
      ]
     },
     "metadata": {},
     "output_type": "display_data"
    }
   ],
   "source": [
    "%%javascript\n",
    "require(\"base/js/utils\").load_extensions(\"usability/interactive_sols/interactive_sols_d\")"
   ]
  },
  {
   "cell_type": "code",
   "execution_count": null,
   "metadata": {
    "collapsed": true
   },
   "outputs": [],
   "source": []
  },
  {
   "cell_type": "code",
   "execution_count": 59,
   "metadata": {
    "collapsed": false
   },
   "outputs": [
    {
     "data": {
      "application/javascript": [
       "require(\"base/js/utils\").load_extensions(\"usability/interactive_sols/interactive_sols_d\")"
      ],
      "text/plain": [
       "<IPython.core.display.Javascript object>"
      ]
     },
     "metadata": {},
     "output_type": "display_data"
    }
   ],
   "source": [
    "%%javascript\n",
    "require(\"base/js/utils\").load_extensions(\"usability/interactive_sols/interactive_sols_d\")"
   ]
  },
  {
   "cell_type": "code",
   "execution_count": 31,
   "metadata": {
    "collapsed": false
   },
   "outputs": [
    {
     "data": {
      "text/plain": [
       "'50'"
      ]
     },
     "execution_count": 31,
     "metadata": {},
     "output_type": "execute_result"
    }
   ],
   "source": [
    "cbx_id"
   ]
  },
  {
   "cell_type": "code",
   "execution_count": 77,
   "metadata": {
    "collapsed": false
   },
   "outputs": [
    {
     "data": {
      "application/javascript": [
       "pr_cell_sols(1) "
      ],
      "text/plain": [
       "<IPython.core.display.Javascript object>"
      ]
     },
     "metadata": {},
     "output_type": "display_data"
    }
   ],
   "source": [
    "%%javascript\n",
    "pr_cell_sols(1) "
   ]
  },
  {
   "cell_type": "code",
   "execution_count": null,
   "metadata": {
    "collapsed": true
   },
   "outputs": [],
   "source": []
  },
  {
   "cell_type": "code",
   "execution_count": null,
   "metadata": {
    "collapsed": true
   },
   "outputs": [],
   "source": []
  },
  {
   "cell_type": "code",
   "execution_count": null,
   "metadata": {
    "collapsed": true
   },
   "outputs": [],
   "source": [
    "zzz"
   ]
  },
  {
   "cell_type": "code",
   "execution_count": 7,
   "metadata": {
    "collapsed": false,
    "hidden": false
   },
   "outputs": [
    {
     "data": {
      "text/plain": [
       "'47'"
      ]
     },
     "execution_count": 7,
     "metadata": {},
     "output_type": "execute_result"
    }
   ],
   "source": [
    "cbx_id"
   ]
  },
  {
   "cell_type": "code",
   "execution_count": null,
   "metadata": {
    "collapsed": false
   },
   "outputs": [],
   "source": [
    "interactive_sols_c.cbx_id"
   ]
  },
  {
   "cell_type": "code",
   "execution_count": 8,
   "metadata": {
    "collapsed": false
   },
   "outputs": [],
   "source": [
    "import interactive_sols_d\n",
    "from interactive_sols_d import process_solution, unhide_next_cell, unhide_all_cells\n",
    "interactive_sols_d.cbx_id=cbx_id"
   ]
  },
  {
   "cell_type": "code",
   "execution_count": 27,
   "metadata": {
    "collapsed": false
   },
   "outputs": [
    {
     "ename": "NameError",
     "evalue": "name 'zozo' is not defined",
     "output_type": "error",
     "traceback": [
      "\u001b[1;31m---------------------------------------------------------------------------\u001b[0m",
      "\u001b[1;31mNameError\u001b[0m                                 Traceback (most recent call last)",
      "\u001b[1;32m<ipython-input-27-a20859c27a4d>\u001b[0m in \u001b[0;36m<module>\u001b[1;34m()\u001b[0m\n\u001b[1;32m----> 1\u001b[1;33m \u001b[0mzozo\u001b[0m\u001b[1;33m\u001b[0m\u001b[0m\n\u001b[0m",
      "\u001b[1;31mNameError\u001b[0m: name 'zozo' is not defined"
     ]
    }
   ],
   "source": [
    "zozo"
   ]
  },
  {
   "cell_type": "code",
   "execution_count": 9,
   "metadata": {
    "cbox_ck": false,
    "cbox_id": "myCheck47",
    "collapsed": false,
    "widget": true
   },
   "outputs": [
    {
     "data": {
      "text/html": [
       "\n",
       "    <div class=\"onoffswitch\">\n",
       "        <input type=\"checkbox\" name=\"onoffswitch\" class=\"onoffswitch-checkbox\" \n",
       "        onclick=\"console.log(document.getElementById('myCheck47').checked ? show_input(1) : hide_input(1))\" \n",
       "        id=\"myCheck47\"  checked>\n",
       "        <label class=\"onoffswitch-label\" for='myCheck47'>\n",
       "            <span class=\"onoffswitch-inner\"></span>\n",
       "            <span class=\"onoffswitch-switch\"></span>\n",
       "        </label>\n",
       "    </div>\n",
       "    <script>\n",
       "        if (init_cell_sols!==undefined) {\n",
       "        init_cell_sols(47)\n",
       "        IPython.notebook.kernel.execute('cbx_id = int(cbx_id)+1 ')\n",
       "        } else console.log(\"on reload init cell undefined\")\n",
       "    </script>\n",
       "    "
      ],
      "text/plain": [
       "<IPython.core.display.HTML object>"
      ]
     },
     "metadata": {},
     "output_type": "display_data"
    }
   ],
   "source": [
    "process_solution()"
   ]
  },
  {
   "cell_type": "code",
   "execution_count": 79,
   "metadata": {
    "cbox_ck": true,
    "cbox_id": "myCheck48",
    "collapsed": false,
    "hidden": true,
    "widget": true
   },
   "outputs": [
    {
     "data": {
      "application/javascript": [
       "pr_cell_sols(1)"
      ],
      "text/plain": [
       "<IPython.core.display.Javascript object>"
      ]
     },
     "metadata": {},
     "output_type": "display_data"
    }
   ],
   "source": [
    "%%javascript\n",
    "pr_cell_sols(1)"
   ]
  },
  {
   "cell_type": "code",
   "execution_count": 80,
   "metadata": {
    "cbox_ck": true,
    "collapsed": false
   },
   "outputs": [
    {
     "data": {
      "text/html": [
       "<div class=\"onoffswitch\">        <input type=\"checkbox\" name=\"onoffswitch\" class=\"onoffswitch-checkbox\"         onclick=\"document.getElementById(\"myCheck50\").checked ? show_input(1) : hide_input(1)\"         id=\"myCheck50\"  checked>        <label class=\"onoffswitch-label\" for=\"myCheck50\">             <span class=\"onoffswitch-inner\"></span>             <span class=\"onoffswitch-switch\"></span>        </label>    </div>"
      ],
      "text/plain": [
       "<IPython.core.display.HTML object>"
      ]
     },
     "metadata": {},
     "output_type": "display_data"
    }
   ],
   "source": [
    "from IPython.display import HTML, display, Javascript\n",
    "display(HTML('<div class=\"onoffswitch\">        <input type=\"checkbox\" name=\"onoffswitch\" class=\"onoffswitch-checkbox\"         onclick=\"document.getElementById(\"myCheck50\").checked ? show_input(1) : hide_input(1)\"         id=\"myCheck50\"  checked>        <label class=\"onoffswitch-label\" for=\"myCheck50\">             <span class=\"onoffswitch-inner\"></span>             <span class=\"onoffswitch-switch\"></span>        </label>    </div>'))"
   ]
  },
  {
   "cell_type": "code",
   "execution_count": null,
   "metadata": {
    "collapsed": true,
    "hidden": false
   },
   "outputs": [],
   "source": [
    "aaa"
   ]
  },
  {
   "cell_type": "code",
   "execution_count": null,
   "metadata": {
    "collapsed": false,
    "hidden": false
   },
   "outputs": [],
   "source": [
    "cbx_id\n"
   ]
  },
  {
   "cell_type": "code",
   "execution_count": null,
   "metadata": {
    "cbox_ck": true,
    "cbox_id": "myCheck43",
    "collapsed": false,
    "scrolled": false,
    "widget": true
   },
   "outputs": [],
   "source": [
    "process_solution(1)"
   ]
  },
  {
   "cell_type": "code",
   "execution_count": null,
   "metadata": {
    "collapsed": false,
    "hidden": false
   },
   "outputs": [],
   "source": [
    "%%javascript\n",
    "console.log(document.getElementById(\"myCheck33\"))"
   ]
  },
  {
   "cell_type": "code",
   "execution_count": null,
   "metadata": {
    "cbox_ck": false,
    "cbox_id": "myCheck40",
    "collapsed": false,
    "hidden": false,
    "widget": true
   },
   "outputs": [],
   "source": [
    "process_solution()"
   ]
  },
  {
   "cell_type": "code",
   "execution_count": null,
   "metadata": {
    "collapsed": true
   },
   "outputs": [],
   "source": [
    "unhide_all_cells()"
   ]
  },
  {
   "cell_type": "code",
   "execution_count": null,
   "metadata": {
    "cbox_ck": true,
    "cbox_id": "myCheck18",
    "collapsed": false,
    "hidden": true,
    "widget": true
   },
   "outputs": [],
   "source": [
    "process_solution(1)"
   ]
  },
  {
   "cell_type": "code",
   "execution_count": null,
   "metadata": {
    "collapsed": true,
    "hidden": true
   },
   "outputs": [],
   "source": [
    "#solution cell 1"
   ]
  },
  {
   "cell_type": "code",
   "execution_count": 52,
   "metadata": {
    "cbox_ck": true,
    "cbox_id": "myCheck49",
    "collapsed": false,
    "widget": true
   },
   "outputs": [
    {
     "data": {
      "application/javascript": [
       "function pr_cell_sols(nb_cells) {\n",
       "    var cell = IPython.notebook.get_selected_cell();\n",
       "    var id = Jupyter.notebook.metadata.interactive_sols.cbx_id;\n",
       "    var idName = '\"myCheck' + id + '\"'\n",
       "    var idName2 = \"'myCheck\" + id + \"'\"\n",
       "    //var el = cell.element.find(\"div.output\")\n",
       "    var el = cell.element.find(\"div.output\")\n",
       "    console.log(el)\n",
       "    $(el).html(' <div class=\"onoffswitch\">\\\n",
       "        <input type=\"checkbox\" name=\"onoffswitch\" class=\"onoffswitch-checkbox\" \\\n",
       "        onclick=\"document.getElementById(' + idName2 + ').checked ? \\\n",
       "show_input(' + nb_cells + ') : hide_input(' + nb_cells + ')\" \\\n",
       "        id=' + idName + '  checked>\\\n",
       "        <label class=\"onoffswitch-label\" for=' + idName + '> \\\n",
       "            <span class=\"onoffswitch-inner\"></span> \\\n",
       "            <span class=\"onoffswitch-switch\"></span>\\\n",
       "        </label>\\\n",
       "    </div>')\n",
       "\n",
       "    //init_cell_sols(id)\n",
       "}\n",
       "pr_cell_sols(1)"
      ],
      "text/plain": [
       "<IPython.core.display.Javascript object>"
      ]
     },
     "metadata": {},
     "output_type": "display_data"
    }
   ],
   "source": [
    "%%javascript\n",
    "function pr_cell_sols(nb_cells) {\n",
    "    var cell = IPython.notebook.get_selected_cell();\n",
    "    var id = Jupyter.notebook.metadata.interactive_sols.cbx_id;\n",
    "    var idName = '\"myCheck' + id + '\"'\n",
    "    var idName2 = \"'myCheck\" + id + \"'\"\n",
    "    //var el = cell.element.find(\"div.output\")\n",
    "    var el = cell.element.find(\"div.output\")\n",
    "    console.log(el)\n",
    "    $(el).html(' <div class=\"onoffswitch\">\\\n",
    "        <input type=\"checkbox\" name=\"onoffswitch\" class=\"onoffswitch-checkbox\" \\\n",
    "        onclick=\"document.getElementById(' + idName2 + ').checked ? \\\n",
    "show_input(' + nb_cells + ') : hide_input(' + nb_cells + ')\" \\\n",
    "        id=' + idName + '  checked>\\\n",
    "        <label class=\"onoffswitch-label\" for=' + idName + '> \\\n",
    "            <span class=\"onoffswitch-inner\"></span> \\\n",
    "            <span class=\"onoffswitch-switch\"></span>\\\n",
    "        </label>\\\n",
    "    </div>')\n",
    "\n",
    "    //init_cell_sols(id)\n",
    "}\n",
    "pr_cell_sols(1)"
   ]
  },
  {
   "cell_type": "code",
   "execution_count": 54,
   "metadata": {
    "collapsed": false
   },
   "outputs": [],
   "source": [
    "from IPython.display import HTML, display, Javascript\n",
    "??display"
   ]
  },
  {
   "cell_type": "code",
   "execution_count": null,
   "metadata": {
    "collapsed": true
   },
   "outputs": [],
   "source": []
  },
  {
   "cell_type": "code",
   "execution_count": 51,
   "metadata": {
    "cbox_ck": true,
    "cbox_id": "myCheck44",
    "collapsed": false,
    "hidden": false,
    "widget": true
   },
   "outputs": [
    {
     "data": {
      "text/plain": [
       "'/home/bercherj/JFB/small_nbextensions/usability/interactive_sols'"
      ]
     },
     "execution_count": 51,
     "metadata": {},
     "output_type": "execute_result"
    }
   ],
   "source": [
    "pwd"
   ]
  }
 ],
 "metadata": {
  "celltoolbar": "Edit Metadata",
  "interactive_sols": {
   "cbx_id": 50
  },
  "kernelspec": {
   "display_name": "Python 3",
   "language": "python",
   "name": "python3"
  },
  "language_info": {
   "codemirror_mode": {
    "name": "ipython",
    "version": 3
   },
   "file_extension": ".py",
   "mimetype": "text/x-python",
   "name": "python",
   "nbconvert_exporter": "python",
   "pygments_lexer": "ipython3",
   "version": "3.4.3+"
  },
  "latex_envs": {
   "bibliofile": "biblio.bib",
   "cite_by": "apalike",
   "current_citInitial": 1,
   "eqLabelWithNumbers": true,
   "eqNumInitial": 0
  }
 },
 "nbformat": 4,
 "nbformat_minor": 0
}
