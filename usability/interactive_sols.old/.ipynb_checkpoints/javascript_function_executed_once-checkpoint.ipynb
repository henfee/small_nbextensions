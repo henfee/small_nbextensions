{
 "cells": [
  {
   "cell_type": "code",
   "execution_count": 28,
   "metadata": {
    "collapsed": false
   },
   "outputs": [
    {
     "data": {
      "text/plain": [
       "undefined"
      ]
     },
     "execution_count": 28,
     "metadata": {},
     "output_type": "execute_result"
    }
   ],
   "source": [
    "function something(para) {\n",
    "    var executed = false;\n",
    "    return function () {\n",
    "        if (!executed) {\n",
    "            executed = true;\n",
    "            // do something\n",
    "            console.log(para,executed)\n",
    "        }\n",
    "        else {console.log(\"already executed\")}\n",
    "    };\n",
    "};"
   ]
  },
  {
   "cell_type": "code",
   "execution_count": 66,
   "metadata": {
    "collapsed": false
   },
   "outputs": [
    {
     "data": {
      "text/plain": [
       "undefined"
      ]
     },
     "execution_count": 66,
     "metadata": {},
     "output_type": "execute_result"
    }
   ],
   "source": [
    "function sm(parameter) {\n",
    "    var executed = false;\n",
    "    return function () {\n",
    "        if (!executed) {\n",
    "            executed = true;\n",
    "            console.log(\"a\"+parameter)\n",
    "            // do something\n",
    "        }\n",
    "        else {console.log(\"already executed\")}\n",
    "    };\n",
    "};"
   ]
  },
  {
   "cell_type": "code",
   "execution_count": 67,
   "metadata": {
    "collapsed": false
   },
   "outputs": [
    {
     "data": {
      "text/plain": [
       "[Function]"
      ]
     },
     "execution_count": 67,
     "metadata": {},
     "output_type": "execute_result"
    }
   ],
   "source": [
    "b=sm(\"ty\")\n"
   ]
  },
  {
   "cell_type": "code",
   "execution_count": 71,
   "metadata": {
    "collapsed": false
   },
   "outputs": [
    {
     "data": {
      "text/plain": [
       "[Function]"
      ]
     },
     "execution_count": 71,
     "metadata": {},
     "output_type": "execute_result"
    }
   ],
   "source": [
    "a=sm(\"aaa\")"
   ]
  },
  {
   "cell_type": "code",
   "execution_count": 74,
   "metadata": {
    "collapsed": false
   },
   "outputs": [
    {
     "name": "stdout",
     "output_type": "stream",
     "text": [
      "already executed\n"
     ]
    },
    {
     "data": {
      "text/plain": [
       "undefined"
      ]
     },
     "execution_count": 74,
     "metadata": {},
     "output_type": "execute_result"
    }
   ],
   "source": [
    "a()"
   ]
  },
  {
   "cell_type": "code",
   "execution_count": 70,
   "metadata": {
    "collapsed": false
   },
   "outputs": [
    {
     "name": "stdout",
     "output_type": "stream",
     "text": [
      "already executed\n"
     ]
    },
    {
     "data": {
      "text/plain": [
       "undefined"
      ]
     },
     "execution_count": 70,
     "metadata": {},
     "output_type": "execute_result"
    }
   ],
   "source": [
    "b()"
   ]
  },
  {
   "cell_type": "code",
   "execution_count": 20,
   "metadata": {
    "collapsed": false
   },
   "outputs": [
    {
     "name": "stdout",
     "output_type": "stream",
     "text": [
      "7\n"
     ]
    },
    {
     "data": {
      "text/plain": [
       "undefined"
      ]
     },
     "execution_count": 20,
     "metadata": {},
     "output_type": "execute_result"
    }
   ],
   "source": [
    "something(7)(2)"
   ]
  },
  {
   "cell_type": "code",
   "execution_count": 75,
   "metadata": {
    "collapsed": false
   },
   "outputs": [
    {
     "name": "stdout",
     "output_type": "stream",
     "text": [
      "idName \"myCheck22\"\n",
      "idName2 'myCheck22'\n"
     ]
    },
    {
     "ename": "ReferenceError",
     "evalue": "nb_cells is not defined",
     "output_type": "error",
     "traceback": [
      "ReferenceError: nb_cells is not defined",
      "    at evalmachine.<anonymous>:9:16",
      "    at run ([eval]:179:19)",
      "    at onMessage ([eval]:63:41)",
      "    at process.emit (events.js:98:17)",
      "    at handleMessage (child_process.js:322:10)",
      "    at Pipe.channel.onread (child_process.js:349:11)"
     ]
    }
   ],
   "source": [
    "var id = 22\n",
    "nb_cell=44\n",
    "var idName = '\"myCheck' + id + '\"'\n",
    "var idName2 = \"'myCheck\" + id + \"'\"\n",
    "console.log(\"idName\",idName)   \n",
    "console.log(\"idName2\",idName2) \n",
    "var toto='<div class=\"onoffswitch\">\\\n",
    "        <input type=\"checkbox\" name=\"onoffswitch\" class=\"onoffswitch-checkbox\" \\\n",
    "        onclick=\"document.getElementById(' + idName2 + ').checked ? \\\n",
    "show_input(' + nb_cells + ') : hide_input(' + nb_cells + ')\" \\\n",
    "        id=' + idName + '  checked>\\\n",
    "        <label class=\"onoffswitch-label\" for=' + idName + '> \\\n",
    "            <span class=\"onoffswitch-inner\"></span> \\\n",
    "            <span class=\"onoffswitch-switch\"></span>\\\n",
    "        </label>\\\n",
    "    </div>'\n",
    "console.log(\"toto\",toto) \n",
    "var tata=\"from IPython.display import HTML, display, Javascript\\ndisplay(HTML(\"+\"'\"+toto+\"'\"+\"))\"\n",
    "console.log(\"tata\",tata) "
   ]
  },
  {
   "cell_type": "code",
   "execution_count": null,
   "metadata": {
    "collapsed": true
   },
   "outputs": [],
   "source": []
  },
  {
   "cell_type": "code",
   "execution_count": null,
   "metadata": {
    "collapsed": true
   },
   "outputs": [],
   "source": []
  }
 ],
 "metadata": {
  "kernelspec": {
   "display_name": "Javascript (Node.js)",
   "language": "javascript",
   "name": "javascript"
  },
  "language_info": {
   "file_extension": "js",
   "mimetype": "application/javascript",
   "name": "javascript",
   "version": "0.10.38"
  },
  "latex_envs": {
   "bibliofile": "biblio.bib",
   "cite_by": "apalike",
   "current_citInitial": 1,
   "eqLabelWithNumbers": true,
   "eqNumInitial": 0
  }
 },
 "nbformat": 4,
 "nbformat_minor": 0
}
