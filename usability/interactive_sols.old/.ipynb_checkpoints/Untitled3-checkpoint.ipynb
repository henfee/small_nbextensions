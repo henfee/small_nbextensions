{
 "cells": [
  {
   "cell_type": "code",
   "execution_count": null,
   "metadata": {
    "collapsed": false
   },
   "outputs": [],
   "source": [
    "%%javascript\n",
    "require(\"base/js/utils\").load_extensions(\"usability/interactive_sols/interactive_sols_d\")"
   ]
  },
  {
   "cell_type": "code",
   "execution_count": null,
   "metadata": {
    "collapsed": false
   },
   "outputs": [],
   "source": [
    "import interactive_sols_d\n",
    "from interactive_sols_d import process_solution, unhide_next_cell, unhide_all_cells"
   ]
  },
  {
   "cell_type": "code",
   "execution_count": null,
   "metadata": {
    "collapsed": false
   },
   "outputs": [],
   "source": [
    "process_solution()"
   ]
  },
  {
   "cell_type": "code",
   "execution_count": null,
   "metadata": {
    "cbox_ck": true,
    "cbox_id": "myCheck6",
    "collapsed": false,
    "widget": true
   },
   "outputs": [],
   "source": [
    "from IPython.display import HTML, display, Javascript\n",
    "display(HTML('<div class=\"onoffswitch\">\\n<input type=\"checkbox\" name=\"onoffswitch\" class=\"onoffswitch-checkbox\"\\nonclick=\"document.getElementById('+\"'myCheck6'\"+').checked ? \\nshow_input(1) : hide_input(1)\" \\nid=\"myCheck6\"  checked>\\n<label class=\"onoffswitch-label\" for=\"myCheck6\"> \\n<span class=\"onoffswitch-inner\"></span> \\n<span class=\"onoffswitch-switch\"></span>\\n</label>\\n</div>'))"
   ]
  },
  {
   "cell_type": "code",
   "execution_count": null,
   "metadata": {
    "cbox_ck": false,
    "cbox_id": "myCheck5",
    "collapsed": false,
    "widget": true
   },
   "outputs": [],
   "source": [
    "from IPython.display import HTML, display, Javascript\n",
    "display(HTML('<div class=\"onoffswitch\">\\n<input type=\"checkbox\" name=\"onoffswitch\" class=\"onoffswitch-checkbox\"\\nonclick=\"document.getElementById('+\"'myCheck5'\"+').checked ? \\nshow_input(1) : hide_input(1)\" \\nid=\"myCheck5\"  checked>\\n<label class=\"onoffswitch-label\" for=\"myCheck5\"> \\n<span class=\"onoffswitch-inner\"></span> \\n<span class=\"onoffswitch-switch\"></span>\\n</label>\\n</div>'))"
   ]
  },
  {
   "cell_type": "code",
   "execution_count": null,
   "metadata": {
    "collapsed": true,
    "hidden": true
   },
   "outputs": [],
   "source": [
    "#test cell"
   ]
  },
  {
   "cell_type": "code",
   "execution_count": null,
   "metadata": {
    "cbox_ck": true,
    "cbox_id": "myCheck2",
    "collapsed": false,
    "hidden": false,
    "widget": true
   },
   "outputs": [],
   "source": [
    "from IPython.display import HTML, display, Javascript\n",
    "display(HTML('<div class=\"onoffswitch\">\\n<input type=\"checkbox\" name=\"onoffswitch\" class=\"onoffswitch-checkbox\"\\nonclick=\"document.getElementById('+\"'myCheck2'\"+').checked ? \\nshow_input(1) : hide_input(1)\" \\nid=\"myCheck2\"  checked>\\n<label class=\"onoffswitch-label\" for=\"myCheck2\"> \\n<span class=\"onoffswitch-inner\"></span> \\n<span class=\"onoffswitch-switch\"></span>\\n</label>\\n</div>'))\n",
    "print('<div class=\"onoffswitch\">\\n<input type=\"checkbox\" name=\"onoffswitch\" class=\"onoffswitch-checkbox\"\\nonclick=\"document.getElementById('+\"'myCheck2'\"+').checked ? \\nshow_input(1) : hide_input(1)\" \\nid=\"myCheck2\"  checked>\\n<label class=\"onoffswitch-label\" for=\"myCheck2\"> \\n<span class=\"onoffswitch-inner\"></span> \\n<span class=\"onoffswitch-switch\"></span>\\n</label>\\n</div>')"
   ]
  },
  {
   "cell_type": "code",
   "execution_count": null,
   "metadata": {
    "collapsed": true,
    "hidden": false
   },
   "outputs": [],
   "source": [
    "#test cell"
   ]
  },
  {
   "cell_type": "code",
   "execution_count": null,
   "metadata": {
    "collapsed": false
   },
   "outputs": [],
   "source": [
    "%%javascript\n",
    "pr_cell_sols(1) "
   ]
  },
  {
   "cell_type": "code",
   "execution_count": null,
   "metadata": {
    "cbox_ck": false,
    "cbox_id": "myCheck1",
    "collapsed": false,
    "widget": true
   },
   "outputs": [],
   "source": [
    "from IPython.display import HTML, display, Javascript\n",
    "display(HTML('<div class=\"onoffswitch\">\\n<input type=\"checkbox\" name=\"onoffswitch\" class=\"onoffswitch-checkbox\"\\nonclick=\"document.getElementById('+\"'myCheck1'\"+').checked ? \\nshow_input(1) : hide_input(1)\" \\nid=\"myCheck1\"  checked>\\n<label class=\"onoffswitch-label\" for=\"myCheck1\"> \\n<span class=\"onoffswitch-inner\"></span> \\n<span class=\"onoffswitch-switch\"></span>\\n</label>\\n</div>'))\n",
    "print('<div class=\"onoffswitch\">\\n<input type=\"checkbox\" name=\"onoffswitch\" class=\"onoffswitch-checkbox\"\\nonclick=\"document.getElementById('+\"'myCheck1'\"+').checked ? \\nshow_input(1) : hide_input(1)\" \\nid=\"myCheck1\"  checked>\\n<label class=\"onoffswitch-label\" for=\"myCheck1\"> \\n<span class=\"onoffswitch-inner\"></span> \\n<span class=\"onoffswitch-switch\"></span>\\n</label>\\n</div>')"
   ]
  },
  {
   "cell_type": "code",
   "execution_count": null,
   "metadata": {
    "cbox_ck": true,
    "collapsed": false,
    "hidden": true
   },
   "outputs": [],
   "source": [
    "    myhchboxb = \"\"\"\n",
    "    <div class=\"onoffswitch\">\n",
    "        <input type=\"checkbox\" name=\"onoffswitch\" class=\"onoffswitch-checkbox\" \n",
    "        onclick=\"console.log(document.getElementById('myCheck{0}').checked ? show_input({1}) : hide_input({1}))\" \n",
    "        id=\"myCheck{0}\"  checked>\n",
    "        <label class=\"onoffswitch-label\" for='myCheck{0}'>\n",
    "            <span class=\"onoffswitch-inner\"></span>\n",
    "            <span class=\"onoffswitch-switch\"></span>\n",
    "        </label>\n",
    "    </div>\n",
    "    \"\"\"\n",
    "    print(myhchboxb.format(34,1))\n",
    "    display(HTML(myhchboxb.format(34,1)))"
   ]
  },
  {
   "cell_type": "code",
   "execution_count": null,
   "metadata": {
    "collapsed": false,
    "hidden": false
   },
   "outputs": [],
   "source": [
    "b=2\n",
    "b"
   ]
  },
  {
   "cell_type": "code",
   "execution_count": null,
   "metadata": {
    "collapsed": false
   },
   "outputs": [],
   "source": [
    "unhide_all_cells()"
   ]
  },
  {
   "cell_type": "code",
   "execution_count": null,
   "metadata": {
    "collapsed": false
   },
   "outputs": [],
   "source": [
    "process_solution()"
   ]
  },
  {
   "cell_type": "code",
   "execution_count": null,
   "metadata": {
    "cbox_ck": true,
    "cbox_id": "myCheck8",
    "collapsed": false,
    "widget": true
   },
   "outputs": [],
   "source": [
    "from IPython.display import HTML, display, Javascript\n",
    "display(HTML('<div class=\"onoffswitch\">\\n<input type=\"checkbox\" name=\"onoffswitch\" class=\"onoffswitch-checkbox\"\\nonclick=\"document.getElementById('+\"'myCheck8'\"+').checked ? \\nshow_input(1) : hide_input(1)\" \\nid=\"myCheck8\"  checked>\\n<label class=\"onoffswitch-label\" for=\"myCheck8\"> \\n<span class=\"onoffswitch-inner\"></span> \\n<span class=\"onoffswitch-switch\"></span>\\n</label>\\n</div>'))"
   ]
  },
  {
   "cell_type": "code",
   "execution_count": null,
   "metadata": {
    "cbox_ck": false,
    "cbox_id": "myCheck7",
    "collapsed": false,
    "hidden": false,
    "widget": true
   },
   "outputs": [],
   "source": [
    "from IPython.display import HTML, display, Javascript\n",
    "display(HTML('<div class=\"onoffswitch\">\\n<input type=\"checkbox\" name=\"onoffswitch\" class=\"onoffswitch-checkbox\"\\nonclick=\"document.getElementById('+\"'myCheck7'\"+').checked ? \\nshow_input(1) : hide_input(1)\" \\nid=\"myCheck7\"  checked>\\n<label class=\"onoffswitch-label\" for=\"myCheck7\"> \\n<span class=\"onoffswitch-inner\"></span> \\n<span class=\"onoffswitch-switch\"></span>\\n</label>\\n</div>'))"
   ]
  },
  {
   "cell_type": "code",
   "execution_count": null,
   "metadata": {
    "cbox_ck": true,
    "cbox_id": "myCheck4",
    "collapsed": false,
    "hidden": true,
    "widget": true
   },
   "outputs": [],
   "source": [
    "from IPython.display import HTML, display, Javascript\n",
    "display(HTML('<div class=\"onoffswitch\">\\n<input type=\"checkbox\" name=\"onoffswitch\" class=\"onoffswitch-checkbox\"\\nonclick=\"document.getElementById('+\"'myCheck4'\"+').checked ? \\nshow_input(1) : hide_input(1)\" \\nid=\"myCheck4\"  checked>\\n<label class=\"onoffswitch-label\" for=\"myCheck4\"> \\n<span class=\"onoffswitch-inner\"></span> \\n<span class=\"onoffswitch-switch\"></span>\\n</label>\\n</div>'))"
   ]
  },
  {
   "cell_type": "code",
   "execution_count": null,
   "metadata": {
    "cbox_ck": true,
    "cbox_id": "myCheck3",
    "collapsed": false,
    "widget": true
   },
   "outputs": [],
   "source": [
    "from IPython.display import HTML, display, Javascript\n",
    "display(HTML('<div class=\"onoffswitch\">\\n<input type=\"checkbox\" name=\"onoffswitch\" class=\"onoffswitch-checkbox\"\\nonclick=\"document.getElementById('+\"'myCheck3'\"+').checked ? \\nshow_input(1) : hide_input(1)\" \\nid=\"myCheck3\"  checked>\\n<label class=\"onoffswitch-label\" for=\"myCheck3\"> \\n<span class=\"onoffswitch-inner\"></span> \\n<span class=\"onoffswitch-switch\"></span>\\n</label>\\n</div>'))"
   ]
  },
  {
   "cell_type": "code",
   "execution_count": null,
   "metadata": {
    "collapsed": true,
    "hidden": false
   },
   "outputs": [],
   "source": [
    "#test2"
   ]
  }
 ],
 "metadata": {
  "celltoolbar": "Edit Metadata",
  "interactive_sols": {
   "cbx_id": 11
  },
  "kernelspec": {
   "display_name": "Python 3",
   "language": "python",
   "name": "python3"
  },
  "language_info": {
   "codemirror_mode": {
    "name": "ipython",
    "version": 3
   },
   "file_extension": ".py",
   "mimetype": "text/x-python",
   "name": "python",
   "nbconvert_exporter": "python",
   "pygments_lexer": "ipython3",
   "version": "3.4.3+"
  },
  "latex_envs": {
   "bibliofile": "biblio.bib",
   "cite_by": "apalike",
   "current_citInitial": 1,
   "eqLabelWithNumbers": true,
   "eqNumInitial": 0
  }
 },
 "nbformat": 4,
 "nbformat_minor": 0
}
