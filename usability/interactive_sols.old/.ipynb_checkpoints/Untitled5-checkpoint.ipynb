{
 "cells": [
  {
   "cell_type": "code",
   "execution_count": 1,
   "metadata": {
    "collapsed": false
   },
   "outputs": [
    {
     "data": {
      "application/javascript": [
       "require(\"base/js/utils\").load_extensions(\"usability/interactive_sols/interactive_sols_d\")"
      ],
      "text/plain": [
       "<IPython.core.display.Javascript object>"
      ]
     },
     "metadata": {},
     "output_type": "display_data"
    }
   ],
   "source": [
    "%%javascript\n",
    "require(\"base/js/utils\").load_extensions(\"usability/interactive_sols/interactive_sols_d\")"
   ]
  },
  {
   "cell_type": "code",
   "execution_count": 2,
   "metadata": {
    "collapsed": true
   },
   "outputs": [],
   "source": [
    "import interactive_sols_d\n",
    "from interactive_sols_d import process_solution, unhide_next_cell, unhide_all_cells"
   ]
  },
  {
   "cell_type": "code",
   "execution_count": 3,
   "metadata": {
    "collapsed": false
   },
   "outputs": [
    {
     "data": {
      "text/plain": [
       "1"
      ]
     },
     "execution_count": 3,
     "metadata": {},
     "output_type": "execute_result"
    }
   ],
   "source": [
    "1"
   ]
  },
  {
   "cell_type": "code",
   "execution_count": 4,
   "metadata": {
    "collapsed": false
   },
   "outputs": [
    {
     "data": {
      "text/plain": [
       "2"
      ]
     },
     "execution_count": 4,
     "metadata": {},
     "output_type": "execute_result"
    }
   ],
   "source": [
    "2"
   ]
  },
  {
   "cell_type": "code",
   "execution_count": 16,
   "metadata": {
    "cbox_ck": false,
    "cbox_id": "myCheck3",
    "collapsed": false,
    "widget": true
   },
   "outputs": [
    {
     "data": {
      "text/html": [
       "\n",
       "    <script>\n",
       "        console.log(\"process\")\n",
       "        console.log(typeof pr_cell_sols)\n",
       "        if (typeof pr_cell_sols !== \"undefined\") {\n",
       "        pr_cell_sols(2)\n",
       "        } else console.log(\"on reload, process_cell undefined\")\n",
       "    </script>\n",
       "    "
      ],
      "text/plain": [
       "<IPython.core.display.HTML object>"
      ]
     },
     "metadata": {},
     "output_type": "display_data"
    },
    {
     "data": {
      "text/html": [
       "<div class=\"onoffswitch\">\n",
       "<input type=\"checkbox\" name=\"onoffswitch\" class=\"onoffswitch-checkbox\"\n",
       "onclick=\"document.getElementById('myCheck3').checked ? \n",
       "show_input(2) : hide_input(2)\" \n",
       "id=\"myCheck3\"  checked>\n",
       "<label class=\"onoffswitch-label\" for=\"myCheck3\"> \n",
       "<span class=\"onoffswitch-inner\"></span> \n",
       "<span class=\"onoffswitch-switch\"></span>\n",
       "</label>\n",
       "</div>"
      ],
      "text/plain": [
       "<IPython.core.display.HTML object>"
      ]
     },
     "metadata": {},
     "output_type": "display_data"
    }
   ],
   "source": [
    "from IPython.display import HTML, display, Javascript\n",
    "display(HTML('<div class=\"onoffswitch\">\\n<input type=\"checkbox\" name=\"onoffswitch\" class=\"onoffswitch-checkbox\"\\nonclick=\"document.getElementById('+\"'myCheck3'\"+').checked ? \\nshow_input(2) : hide_input(2)\" \\nid=\"myCheck3\"  checked>\\n<label class=\"onoffswitch-label\" for=\"myCheck3\"> \\n<span class=\"onoffswitch-inner\"></span> \\n<span class=\"onoffswitch-switch\"></span>\\n</label>\\n</div>'))"
   ]
  },
  {
   "cell_type": "code",
   "execution_count": 6,
   "metadata": {
    "collapsed": false,
    "hidden": true
   },
   "outputs": [
    {
     "data": {
      "text/plain": [
       "3"
      ]
     },
     "execution_count": 6,
     "metadata": {},
     "output_type": "execute_result"
    }
   ],
   "source": [
    "3"
   ]
  },
  {
   "cell_type": "code",
   "execution_count": 7,
   "metadata": {
    "collapsed": false,
    "hidden": true
   },
   "outputs": [
    {
     "data": {
      "text/plain": [
       "4"
      ]
     },
     "execution_count": 7,
     "metadata": {},
     "output_type": "execute_result"
    }
   ],
   "source": [
    "4"
   ]
  },
  {
   "cell_type": "code",
   "execution_count": 8,
   "metadata": {
    "collapsed": false
   },
   "outputs": [
    {
     "data": {
      "text/plain": [
       "5"
      ]
     },
     "execution_count": 8,
     "metadata": {},
     "output_type": "execute_result"
    }
   ],
   "source": [
    "5"
   ]
  },
  {
   "cell_type": "code",
   "execution_count": 9,
   "metadata": {
    "collapsed": false
   },
   "outputs": [
    {
     "data": {
      "text/plain": [
       "6"
      ]
     },
     "execution_count": 9,
     "metadata": {},
     "output_type": "execute_result"
    }
   ],
   "source": [
    "6"
   ]
  },
  {
   "cell_type": "code",
   "execution_count": 19,
   "metadata": {
    "cbox_ck": true,
    "cbox_id": "myCheck4",
    "collapsed": false,
    "widget": true
   },
   "outputs": [
    {
     "data": {
      "text/html": [
       "\n",
       "    <script>\n",
       "        console.log(\"process\")\n",
       "        console.log(typeof pr_cell_sols)\n",
       "        if (typeof pr_cell_sols !== \"undefined\") {\n",
       "        pr_cell_sols(1)\n",
       "        } else console.log(\"on reload, process_cell undefined\")\n",
       "    </script>\n",
       "    "
      ],
      "text/plain": [
       "<IPython.core.display.HTML object>"
      ]
     },
     "metadata": {},
     "output_type": "display_data"
    },
    {
     "data": {
      "text/html": [
       "<div class=\"onoffswitch\">\n",
       "<input type=\"checkbox\" name=\"onoffswitch\" class=\"onoffswitch-checkbox\"\n",
       "onclick=\"document.getElementById('myCheck4').checked ? \n",
       "show_input(1) : hide_input(1)\" \n",
       "id=\"myCheck4\"  checked>\n",
       "<label class=\"onoffswitch-label\" for=\"myCheck4\"> \n",
       "<span class=\"onoffswitch-inner\"></span> \n",
       "<span class=\"onoffswitch-switch\"></span>\n",
       "</label>\n",
       "</div>"
      ],
      "text/plain": [
       "<IPython.core.display.HTML object>"
      ]
     },
     "metadata": {},
     "output_type": "display_data"
    }
   ],
   "source": [
    "from IPython.display import HTML, display, Javascript\n",
    "display(HTML('<div class=\"onoffswitch\">\\n<input type=\"checkbox\" name=\"onoffswitch\" class=\"onoffswitch-checkbox\"\\nonclick=\"document.getElementById('+\"'myCheck4'\"+').checked ? \\nshow_input(1) : hide_input(1)\" \\nid=\"myCheck4\"  checked>\\n<label class=\"onoffswitch-label\" for=\"myCheck4\"> \\n<span class=\"onoffswitch-inner\"></span> \\n<span class=\"onoffswitch-switch\"></span>\\n</label>\\n</div>'))"
   ]
  },
  {
   "cell_type": "code",
   "execution_count": 17,
   "metadata": {
    "collapsed": false,
    "hidden": false
   },
   "outputs": [
    {
     "data": {
      "application/javascript": [
       "\n",
       "          var start = 0 //IPython.notebook.get_selected_index();\n",
       "          var end = IPython.notebook.ncells()\n",
       "          for (var i=start; i<end; i++) { \n",
       "              IPython.notebook.select(i);\n",
       "              var cell = IPython.notebook.get_selected_cell();\n",
       "              cell.element.find(\"div.input\").show();  \n",
       "              cell.element.find(\"div.output\").show();  \n",
       "                    }                                \n",
       "        "
      ],
      "text/plain": [
       "<IPython.core.display.Javascript object>"
      ]
     },
     "metadata": {},
     "output_type": "display_data"
    }
   ],
   "source": [
    "unhide_all_cells()"
   ]
  },
  {
   "cell_type": "code",
   "execution_count": 13,
   "metadata": {
    "cbox_ck": true,
    "cbox_id": "myCheck2",
    "collapsed": false,
    "widget": true
   },
   "outputs": [
    {
     "data": {
      "text/html": [
       "<div class=\"onoffswitch\">\n",
       "<input type=\"checkbox\" name=\"onoffswitch\" class=\"onoffswitch-checkbox\"\n",
       "onclick=\"document.getElementById('myCheck2').checked ? \n",
       "show_input(1) : hide_input(1)\" \n",
       "id=\"myCheck2\"  checked>\n",
       "<label class=\"onoffswitch-label\" for=\"myCheck2\"> \n",
       "<span class=\"onoffswitch-inner\"></span> \n",
       "<span class=\"onoffswitch-switch\"></span>\n",
       "</label>\n",
       "</div>"
      ],
      "text/plain": [
       "<IPython.core.display.HTML object>"
      ]
     },
     "metadata": {},
     "output_type": "display_data"
    }
   ],
   "source": [
    "from IPython.display import HTML, display, Javascript\n",
    "display(HTML('<div class=\"onoffswitch\">\\n<input type=\"checkbox\" name=\"onoffswitch\" class=\"onoffswitch-checkbox\"\\nonclick=\"document.getElementById('+\"'myCheck2'\"+').checked ? \\nshow_input(1) : hide_input(1)\" \\nid=\"myCheck2\"  checked>\\n<label class=\"onoffswitch-label\" for=\"myCheck2\"> \\n<span class=\"onoffswitch-inner\"></span> \\n<span class=\"onoffswitch-switch\"></span>\\n</label>\\n</div>'))"
   ]
  }
 ],
 "metadata": {
  "celltoolbar": "Edit Metadata",
  "interactive_sols": {
   "cbx_id": 5
  },
  "kernelspec": {
   "display_name": "Python 3",
   "language": "python",
   "name": "python3"
  },
  "language_info": {
   "codemirror_mode": {
    "name": "ipython",
    "version": 3
   },
   "file_extension": ".py",
   "mimetype": "text/x-python",
   "name": "python",
   "nbconvert_exporter": "python",
   "pygments_lexer": "ipython3",
   "version": "3.4.3+"
  },
  "latex_envs": {
   "bibliofile": "biblio.bib",
   "cite_by": "apalike",
   "current_citInitial": 1,
   "eqLabelWithNumbers": true,
   "eqNumInitial": 0
  }
 },
 "nbformat": 4,
 "nbformat_minor": 0
}
