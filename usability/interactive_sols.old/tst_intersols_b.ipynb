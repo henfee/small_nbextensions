{
 "cells": [
  {
   "cell_type": "code",
   "execution_count": 12,
   "metadata": {
    "collapsed": false
   },
   "outputs": [
    {
     "data": {
      "application/javascript": [
       "require(\"base/js/utils\").load_extensions(\"usability/interactive_sols/interactive_sols_b\")"
      ],
      "text/plain": [
       "<IPython.core.display.Javascript object>"
      ]
     },
     "metadata": {},
     "output_type": "display_data"
    }
   ],
   "source": [
    "%%javascript\n",
    "require(\"base/js/utils\").load_extensions(\"usability/interactive_sols/interactive_sols_b\")"
   ]
  },
  {
   "cell_type": "code",
   "execution_count": 4,
   "metadata": {
    "cbox_ck": true,
    "cbox_id": "myCheck74",
    "collapsed": false,
    "widget": true
   },
   "outputs": [
    {
     "data": {
      "application/javascript": [
       "\n",
       "          var start = 0 //IPython.notebook.get_selected_index();\n",
       "          var end = IPython.notebook.ncells()\n",
       "          for (var i=start; i<end; i++) { \n",
       "              IPython.notebook.select(i);\n",
       "              var cell = IPython.notebook.get_selected_cell();\n",
       "              cell.element.find(\"div.input\").show();  \n",
       "              cell.element.find(\"div.output\").show();  \n",
       "                    }                                \n",
       "        "
      ],
      "text/plain": [
       "<IPython.core.display.Javascript object>"
      ]
     },
     "metadata": {},
     "output_type": "display_data"
    }
   ],
   "source": [
    "unhide_all_cells()"
   ]
  },
  {
   "cell_type": "code",
   "execution_count": 14,
   "metadata": {
    "collapsed": false
   },
   "outputs": [
    {
     "data": {
      "text/plain": [
       "'69'"
      ]
     },
     "execution_count": 14,
     "metadata": {},
     "output_type": "execute_result"
    }
   ],
   "source": [
    "cbx_id"
   ]
  },
  {
   "cell_type": "code",
   "execution_count": 18,
   "metadata": {
    "cbox_ck": true,
    "cbox_id": "myCheck74",
    "collapsed": false,
    "widget": true
   },
   "outputs": [
    {
     "data": {
      "application/javascript": [
       "\n",
       "          var start = 0 //IPython.notebook.get_selected_index();\n",
       "          var end = IPython.notebook.ncells()\n",
       "          for (var i=start; i<end; i++) { \n",
       "              IPython.notebook.select(i);\n",
       "              var cell = IPython.notebook.get_selected_cell();\n",
       "              cell.element.find(\"div.input\").show();  \n",
       "              cell.element.find(\"div.output\").show();  \n",
       "                    }                                \n",
       "        "
      ],
      "text/plain": [
       "<IPython.core.display.Javascript object>"
      ]
     },
     "metadata": {},
     "output_type": "display_data"
    }
   ],
   "source": [
    "unhide_all_cells()"
   ]
  },
  {
   "cell_type": "code",
   "execution_count": 15,
   "metadata": {
    "collapsed": false
   },
   "outputs": [
    {
     "data": {
      "application/javascript": [
       "require(\"base/js/utils\").load_extensions(\"usability/interactive_sols/interactive_sols_b\")"
      ],
      "text/plain": [
       "<IPython.core.display.Javascript object>"
      ]
     },
     "metadata": {},
     "output_type": "display_data"
    }
   ],
   "source": [
    "%%javascript\n",
    "require(\"base/js/utils\").load_extensions(\"usability/interactive_sols/interactive_sols_b\")"
   ]
  },
  {
   "cell_type": "code",
   "execution_count": 1,
   "metadata": {
    "collapsed": false
   },
   "outputs": [
    {
     "data": {
      "application/javascript": [
       "console.log(cbx_id)"
      ],
      "text/plain": [
       "<IPython.core.display.Javascript object>"
      ]
     },
     "metadata": {},
     "output_type": "display_data"
    }
   ],
   "source": [
    "%%javascript\n",
    "console.log(cbx_id)"
   ]
  },
  {
   "cell_type": "code",
   "execution_count": null,
   "metadata": {
    "collapsed": false
   },
   "outputs": [],
   "source": [
    "pwd"
   ]
  },
  {
   "cell_type": "code",
   "execution_count": 16,
   "metadata": {
    "collapsed": false
   },
   "outputs": [],
   "source": [
    "import interactive_sols_b\n",
    "from interactive_sols_b import process_solution, unhide_next_cell, unhide_all_cells\n",
    "interactive_sols_b.cbx_id=cbx_id"
   ]
  },
  {
   "cell_type": "code",
   "execution_count": 19,
   "metadata": {
    "cbox_ck": false,
    "cbox_id": "myCheck75",
    "collapsed": false,
    "widget": true
   },
   "outputs": [
    {
     "data": {
      "text/html": [
       "\n",
       "    <div class=\"onoffswitch\">\n",
       "        <input type=\"checkbox\" name=\"onoffswitch\" class=\"onoffswitch-checkbox\" \n",
       "        onclick=\"console.log(document.getElementById('myCheck75').checked ? show_input(2) : hide_input(2))\" \n",
       "        id=\"myCheck75\"  checked>\n",
       "        <label class=\"onoffswitch-label\" for='myCheck75'>\n",
       "            <span class=\"onoffswitch-inner\" )\"></span>\n",
       "            <span class=\"onoffswitch-switch\"></span>\n",
       "        </label>\n",
       "    </div>\n",
       "    <script>\n",
       "       //init_cell_sols(\"myCheck75\");\n",
       "       cfg= Jupyter.notebook.metadata.interactive_sols;\n",
       "       var cell = IPython.notebook.get_selected_cell();\n",
       "         //cell.metadata.manualexec = true; \n",
       "         cell.metadata.widget = true;\n",
       "         cell.metadata.cbox_id = \"myCheck75\";\n",
       "         cell.metadata.cbox_ck = true;\n",
       "         cfg.cbx_id+=1;\n",
       "         cell.element.find(\"div.input\").hide(); //hide itself...\n",
       "       </script>\n",
       "    "
      ],
      "text/plain": [
       "<IPython.core.display.HTML object>"
      ]
     },
     "metadata": {},
     "output_type": "display_data"
    }
   ],
   "source": [
    "process_solution(2)"
   ]
  },
  {
   "cell_type": "code",
   "execution_count": 9,
   "metadata": {
    "collapsed": false,
    "hidden": true
   },
   "outputs": [
    {
     "name": "stdout",
     "output_type": "stream",
     "text": [
      "31\n"
     ]
    }
   ],
   "source": [
    "def toto():\n",
    "    global cbx_id\n",
    "    print(cbx_id)\n",
    "toto()    "
   ]
  },
  {
   "cell_type": "code",
   "execution_count": 10,
   "metadata": {
    "collapsed": false,
    "hidden": true
   },
   "outputs": [
    {
     "data": {
      "application/javascript": [
       "\n",
       "    var index = IPython.notebook.get_selected_index();\n",
       "    var cell = IPython.notebook.get_cell(index+1);\n",
       "    cell.element.find(\"div.input\").show()\n",
       "    "
      ],
      "text/plain": [
       "<IPython.core.display.Javascript object>"
      ]
     },
     "metadata": {},
     "output_type": "display_data"
    }
   ],
   "source": [
    "unhide_next_cell()"
   ]
  },
  {
   "cell_type": "code",
   "execution_count": 11,
   "metadata": {
    "collapsed": false
   },
   "outputs": [
    {
     "data": {
      "text/plain": [
       "3"
      ]
     },
     "execution_count": 11,
     "metadata": {},
     "output_type": "execute_result"
    }
   ],
   "source": [
    "yy=3\n",
    "yy"
   ]
  },
  {
   "cell_type": "code",
   "execution_count": 12,
   "metadata": {
    "collapsed": false
   },
   "outputs": [
    {
     "data": {
      "application/javascript": [
       "\n",
       "    var index = IPython.notebook.get_selected_index();\n",
       "    var cell = IPython.notebook.get_cell(index+1);\n",
       "    cell.element.find(\"div.input\").show()\n",
       "    "
      ],
      "text/plain": [
       "<IPython.core.display.Javascript object>"
      ]
     },
     "metadata": {},
     "output_type": "display_data"
    }
   ],
   "source": [
    "unhide_next_cell()"
   ]
  },
  {
   "cell_type": "code",
   "execution_count": 20,
   "metadata": {
    "cbox_ck": false,
    "cbox_id": "myCheck76",
    "collapsed": false,
    "widget": true
   },
   "outputs": [
    {
     "data": {
      "text/html": [
       "\n",
       "    <div class=\"onoffswitch\">\n",
       "        <input type=\"checkbox\" name=\"onoffswitch\" class=\"onoffswitch-checkbox\" \n",
       "        onclick=\"console.log(document.getElementById('myCheck76').checked ? show_input(2) : hide_input(2))\" \n",
       "        id=\"myCheck76\"  checked>\n",
       "        <label class=\"onoffswitch-label\" for='myCheck76'>\n",
       "            <span class=\"onoffswitch-inner\" )\"></span>\n",
       "            <span class=\"onoffswitch-switch\"></span>\n",
       "        </label>\n",
       "    </div>\n",
       "    <script>\n",
       "       //init_cell_sols(\"myCheck76\");\n",
       "       cfg= Jupyter.notebook.metadata.interactive_sols;\n",
       "       var cell = IPython.notebook.get_selected_cell();\n",
       "         //cell.metadata.manualexec = true; \n",
       "         cell.metadata.widget = true;\n",
       "         cell.metadata.cbox_id = \"myCheck76\";\n",
       "         cell.metadata.cbox_ck = true;\n",
       "         cfg.cbx_id+=1;\n",
       "         cell.element.find(\"div.input\").hide(); //hide itself...\n",
       "       </script>\n",
       "    "
      ],
      "text/plain": [
       "<IPython.core.display.HTML object>"
      ]
     },
     "metadata": {},
     "output_type": "display_data"
    }
   ],
   "source": [
    "process_solution(2)"
   ]
  },
  {
   "cell_type": "code",
   "execution_count": 8,
   "metadata": {
    "collapsed": true,
    "hidden": true
   },
   "outputs": [],
   "source": [
    "from IPython.display import clear_output\n",
    "from IPython.core.interactiveshell import InteractiveShell"
   ]
  },
  {
   "cell_type": "code",
   "execution_count": null,
   "metadata": {
    "collapsed": true,
    "hidden": true
   },
   "outputs": [],
   "source": [
    "InteractiveShell.instance().display_pub.clear_output"
   ]
  },
  {
   "cell_type": "code",
   "execution_count": 13,
   "metadata": {
    "collapsed": false,
    "hidden": true
   },
   "outputs": [
    {
     "data": {
      "text/plain": [
       "[0, 1, 2, 3, 4, 5, 6, 7, 8, 9]"
      ]
     },
     "execution_count": 13,
     "metadata": {},
     "output_type": "execute_result"
    }
   ],
   "source": [
    "a=range(10)\n",
    "list(a)"
   ]
  },
  {
   "cell_type": "markdown",
   "metadata": {
    "hidden": true
   },
   "source": [
    "This is a **text** and an equation\n",
    "$$\n",
    "\\sum_i a_ib_i\n",
    "$$"
   ]
  },
  {
   "cell_type": "code",
   "execution_count": 3,
   "metadata": {
    "collapsed": true
   },
   "outputs": [],
   "source": [
    "#Another cell"
   ]
  },
  {
   "cell_type": "code",
   "execution_count": 15,
   "metadata": {
    "collapsed": false
   },
   "outputs": [
    {
     "name": "stdout",
     "output_type": "stream",
     "text": [
      "w\n"
     ]
    }
   ],
   "source": [
    "print(\"w\")"
   ]
  },
  {
   "cell_type": "code",
   "execution_count": 21,
   "metadata": {
    "cbox_ck": false,
    "cbox_id": "myCheck77",
    "collapsed": false,
    "widget": true
   },
   "outputs": [
    {
     "data": {
      "text/html": [
       "\n",
       "    <div class=\"onoffswitch\">\n",
       "        <input type=\"checkbox\" name=\"onoffswitch\" class=\"onoffswitch-checkbox\" \n",
       "        onclick=\"console.log(document.getElementById('myCheck77').checked ? show_input(1) : hide_input(1))\" \n",
       "        id=\"myCheck77\"  checked>\n",
       "        <label class=\"onoffswitch-label\" for='myCheck77'>\n",
       "            <span class=\"onoffswitch-inner\" )\"></span>\n",
       "            <span class=\"onoffswitch-switch\"></span>\n",
       "        </label>\n",
       "    </div>\n",
       "    <script>\n",
       "       //init_cell_sols(\"myCheck77\");\n",
       "       cfg= Jupyter.notebook.metadata.interactive_sols;\n",
       "       var cell = IPython.notebook.get_selected_cell();\n",
       "         //cell.metadata.manualexec = true; \n",
       "         cell.metadata.widget = true;\n",
       "         cell.metadata.cbox_id = \"myCheck77\";\n",
       "         cell.metadata.cbox_ck = true;\n",
       "         cfg.cbx_id+=1;\n",
       "         cell.element.find(\"div.input\").hide(); //hide itself...\n",
       "       </script>\n",
       "    "
      ],
      "text/plain": [
       "<IPython.core.display.HTML object>"
      ]
     },
     "metadata": {},
     "output_type": "display_data"
    }
   ],
   "source": [
    "process_solution(1)"
   ]
  },
  {
   "cell_type": "code",
   "execution_count": 17,
   "metadata": {
    "collapsed": false,
    "hidden": true
   },
   "outputs": [
    {
     "data": {
      "text/plain": [
       "'31'"
      ]
     },
     "execution_count": 17,
     "metadata": {},
     "output_type": "execute_result"
    }
   ],
   "source": [
    "cbx_id"
   ]
  },
  {
   "cell_type": "code",
   "execution_count": 18,
   "metadata": {
    "collapsed": false
   },
   "outputs": [
    {
     "data": {
      "text/plain": [
       "32"
      ]
     },
     "execution_count": 18,
     "metadata": {},
     "output_type": "execute_result"
    }
   ],
   "source": [
    "interactive_sols_b.cbx_id"
   ]
  },
  {
   "cell_type": "code",
   "execution_count": 23,
   "metadata": {
    "cbox_ck": true,
    "cbox_id": "myCheck36",
    "collapsed": false,
    "widget": true
   },
   "outputs": [
    {
     "data": {
      "text/html": [
       "\n",
       "    <div class=\"onoffswitch\">\n",
       "        <input type=\"checkbox\" name=\"onoffswitch\" class=\"onoffswitch-checkbox\" \n",
       "        onclick=\"console.log(document.getElementById('myCheck36').checked ? show_input(1) : hide_input(1))\" \n",
       "        id=\"myCheck36\"  checked>\n",
       "        <label class=\"onoffswitch-label\" for='myCheck36'>\n",
       "            <span class=\"onoffswitch-inner\" )\"></span>\n",
       "            <span class=\"onoffswitch-switch\"></span>\n",
       "        </label>\n",
       "    </div>\n",
       "    <script> \n",
       "       //init_cell_sols(\"myCheck36\"); \n",
       "       cfg= Jupyter.notebook.metadata.interactive_sols;\n",
       "       var cell = IPython.notebook.get_selected_cell();\n",
       "         //cell.metadata.manualexec = true; \n",
       "         cell.metadata.widget = true;\n",
       "         cell.metadata.cbox_id = \"myCheck36\";\n",
       "         cell.metadata.cbox_ck = true;\n",
       "         cfg.cbx_id+=1;\n",
       "         cell.element.find(\"div.input\").hide(); //hide itself...\n",
       "       </script>\n",
       "    "
      ],
      "text/plain": [
       "<IPython.core.display.HTML object>"
      ]
     },
     "metadata": {},
     "output_type": "display_data"
    }
   ],
   "source": [
    "process_solution(1)"
   ]
  },
  {
   "cell_type": "code",
   "execution_count": 20,
   "metadata": {
    "cbox_ck": true,
    "cbox_id": "myCheck33",
    "collapsed": false,
    "widget": true
   },
   "outputs": [
    {
     "name": "stdout",
     "output_type": "stream",
     "text": [
      "last cell\n"
     ]
    }
   ],
   "source": [
    "print(\"last cell\")"
   ]
  },
  {
   "cell_type": "code",
   "execution_count": 17,
   "metadata": {
    "cbox_ck": false,
    "cbox_id": "myCheck74",
    "collapsed": false,
    "widget": true
   },
   "outputs": [
    {
     "data": {
      "text/html": [
       "\n",
       "    <div class=\"onoffswitch\">\n",
       "        <input type=\"checkbox\" name=\"onoffswitch\" class=\"onoffswitch-checkbox\" \n",
       "        onclick=\"console.log(document.getElementById('myCheck74').checked ? show_input(1) : hide_input(1))\" \n",
       "        id=\"myCheck74\"  checked>\n",
       "        <label class=\"onoffswitch-label\" for='myCheck74'>\n",
       "            <span class=\"onoffswitch-inner\" )\"></span>\n",
       "            <span class=\"onoffswitch-switch\"></span>\n",
       "        </label>\n",
       "    </div>\n",
       "    <script>\n",
       "       //init_cell_sols(\"myCheck74\");\n",
       "       cfg= Jupyter.notebook.metadata.interactive_sols;\n",
       "       var cell = IPython.notebook.get_selected_cell();\n",
       "         //cell.metadata.manualexec = true; \n",
       "         cell.metadata.widget = true;\n",
       "         cell.metadata.cbox_id = \"myCheck74\";\n",
       "         cell.metadata.cbox_ck = true;\n",
       "         cfg.cbx_id+=1;\n",
       "         cell.element.find(\"div.input\").hide(); //hide itself...\n",
       "       </script>\n",
       "    "
      ],
      "text/plain": [
       "<IPython.core.display.HTML object>"
      ]
     },
     "metadata": {},
     "output_type": "display_data"
    }
   ],
   "source": [
    "process_solution(1)"
   ]
  },
  {
   "cell_type": "markdown",
   "metadata": {
    "hidden": true
   },
   "source": [
    "\"1\""
   ]
  },
  {
   "cell_type": "code",
   "execution_count": 10,
   "metadata": {
    "collapsed": false
   },
   "outputs": [],
   "source": [
    "from IPython.display import HTML, display, Javascript\n",
    "Javascript?"
   ]
  }
 ],
 "metadata": {
  "celltoolbar": "Edit Metadata",
  "interactive_sols": {
   "cbx_id": 97
  },
  "kernelspec": {
   "display_name": "Python 3",
   "language": "python",
   "name": "python3"
  },
  "language_info": {
   "codemirror_mode": {
    "name": "ipython",
    "version": 3
   },
   "file_extension": ".py",
   "mimetype": "text/x-python",
   "name": "python",
   "nbconvert_exporter": "python",
   "pygments_lexer": "ipython3",
   "version": "3.4.3+"
  },
  "latex_envs": {
   "bibliofile": "biblio.bib",
   "cite_by": "apalike",
   "current_citInitial": 1,
   "eqLabelWithNumbers": true,
   "eqNumInitial": 0
  }
 },
 "nbformat": 4,
 "nbformat_minor": 0
}
