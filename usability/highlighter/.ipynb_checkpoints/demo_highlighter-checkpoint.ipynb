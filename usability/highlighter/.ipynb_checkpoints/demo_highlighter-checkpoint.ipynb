{
 "cells": [
  {
   "cell_type": "code",
   "execution_count": 1,
   "metadata": {
    "collapsed": false
   },
   "outputs": [
    {
     "data": {
      "application/javascript": [
       "require(\"base/js/utils\").load_extensions(\"highlighter\")"
      ],
      "text/plain": [
       "<IPython.core.display.Javascript object>"
      ]
     },
     "metadata": {},
     "output_type": "display_data"
    }
   ],
   "source": [
    "%%javascript\n",
    "require(\"base/js/utils\").load_extensions(\"usability/highlighter/highlighter\")"
   ]
  },
  {
   "cell_type": "markdown",
   "metadata": {},
   "source": [
    "## The highlighter extension:\n",
    "\n",
    "- Firstable, the extension provides three toolbar buttons that enable highlighting a selected text _within a markdown cell_. Two different \\`color schemes' are provided, which can be customized in the stylesheet `highlighter.css`. The last button enables to remove all highlightings in the current cell. \n",
    "- This works both when the cell is rendered and when the cell is in edit mode; \n",
    "- The extension also provides two keyboard shortcuts (Alt-G and Alt-H) which fire the highlighting of the selected text. \n",
    "\n",
    "![](icon.gif)\n",
    "\n",
    "## Installation:\n",
    "\n",
    "With Jupter, you can simply issue\n",
    "```bash\n",
    "jupyter nbextension install https://rawgit.com/jfbercher/small_nbextensions/master/highlighter.zip  --user\n",
    "\n",
    "```\n",
    "at the command line.\n",
    "\n",
    "### Testing: \n",
    "\n",
    "Use a code cell with\n",
    "```javascript\n",
    "%%javascript\n",
    "require(\"base/js/utils\").load_extensions(\"usability/highlighter/highlighter\")\n",
    "```\n",
    "### Automatic load\n",
    "You may also automatically load the extension for any notebook via\n",
    "```bash\n",
    "jupyter nbextension enable usability/highlighter/highlighter\t\n",
    "```"
   ]
  },
  {
   "cell_type": "code",
   "execution_count": null,
   "metadata": {
    "collapsed": true
   },
   "outputs": [],
   "source": []
  }
 ],
 "metadata": {
  "kernelspec": {
   "display_name": "Python 3",
   "language": "python",
   "name": "python3"
  },
  "language_info": {
   "codemirror_mode": {
    "name": "ipython",
    "version": 3
   },
   "file_extension": ".py",
   "mimetype": "text/x-python",
   "name": "python",
   "nbconvert_exporter": "python",
   "pygments_lexer": "ipython3",
   "version": "3.4.3+"
  },
  "latex_envs": {
   "bibliofile": "biblio.bib",
   "cite_by": "apalike",
   "current_citInitial": 1,
   "eqLabelWithNumbers": true,
   "eqNumInitial": 0
  }
 },
 "nbformat": 4,
 "nbformat_minor": 0
}
